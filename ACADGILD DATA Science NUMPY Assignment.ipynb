{
 "cells": [
  {
   "cell_type": "code",
   "execution_count": 47,
   "metadata": {
    "collapsed": true
   },
   "outputs": [],
   "source": [
    "import numpy as np"
   ]
  },
  {
   "cell_type": "code",
   "execution_count": 68,
   "metadata": {},
   "outputs": [],
   "source": [
    "list1 = np.arange(1,11)"
   ]
  },
  {
   "cell_type": "code",
   "execution_count": 69,
   "metadata": {},
   "outputs": [
    {
     "data": {
      "text/plain": [
       "array([ 1,  2,  3,  4,  5,  6,  7,  8,  9, 10])"
      ]
     },
     "execution_count": 69,
     "metadata": {},
     "output_type": "execute_result"
    }
   ],
   "source": [
    "list1\n"
   ]
  },
  {
   "cell_type": "code",
   "execution_count": 129,
   "metadata": {
    "collapsed": true
   },
   "outputs": [],
   "source": [
    "N = 5"
   ]
  },
  {
   "cell_type": "markdown",
   "metadata": {},
   "source": [
    "# Vander package in python"
   ]
  },
  {
   "cell_type": "code",
   "execution_count": 130,
   "metadata": {},
   "outputs": [
    {
     "data": {
      "text/plain": [
       "array([[    1,     1,     1,     1,     1],\n",
       "       [    1,     2,     4,     8,    16],\n",
       "       [    1,     3,     9,    27,    81],\n",
       "       [    1,     4,    16,    64,   256],\n",
       "       [    1,     5,    25,   125,   625],\n",
       "       [    1,     6,    36,   216,  1296],\n",
       "       [    1,     7,    49,   343,  2401],\n",
       "       [    1,     8,    64,   512,  4096],\n",
       "       [    1,     9,    81,   729,  6561],\n",
       "       [    1,    10,   100,  1000, 10000]])"
      ]
     },
     "execution_count": 130,
     "metadata": {},
     "output_type": "execute_result"
    }
   ],
   "source": [
    "\n",
    "np.vander(mat1, N, increasing=True)"
   ]
  },
  {
   "cell_type": "markdown",
   "metadata": {},
   "source": [
    "# Vander matrix function written in python"
   ]
  },
  {
   "cell_type": "code",
   "execution_count": 131,
   "metadata": {},
   "outputs": [],
   "source": [
    "def vander_matrix(element,N):\n",
    "    out  = [] \n",
    "    for i in range(len(element)):\n",
    "        list3 = []\n",
    "        for j in range(0,N):\n",
    "            list3.append(np.power(element[i],j))\n",
    "    \n",
    "        out.append(list3)\n",
    "    return np.array(out)"
   ]
  },
  {
   "cell_type": "code",
   "execution_count": 132,
   "metadata": {},
   "outputs": [],
   "source": [
    "matt_out2 =  vander_matrix(list1,5)"
   ]
  },
  {
   "cell_type": "code",
   "execution_count": 134,
   "metadata": {},
   "outputs": [
    {
     "name": "stdout",
     "output_type": "stream",
     "text": [
      "[[    1     1     1     1     1]\n",
      " [    1     2     4     8    16]\n",
      " [    1     3     9    27    81]\n",
      " [    1     4    16    64   256]\n",
      " [    1     5    25   125   625]\n",
      " [    1     6    36   216  1296]\n",
      " [    1     7    49   343  2401]\n",
      " [    1     8    64   512  4096]\n",
      " [    1     9    81   729  6561]\n",
      " [    1    10   100  1000 10000]]\n"
     ]
    }
   ],
   "source": [
    "print(matt_out2)"
   ]
  }
 ],
 "metadata": {
  "kernelspec": {
   "display_name": "Python 3",
   "language": "python",
   "name": "python3"
  },
  "language_info": {
   "codemirror_mode": {
    "name": "ipython",
    "version": 3
   },
   "file_extension": ".py",
   "mimetype": "text/x-python",
   "name": "python",
   "nbconvert_exporter": "python",
   "pygments_lexer": "ipython3",
   "version": "3.5.4"
  }
 },
 "nbformat": 4,
 "nbformat_minor": 2
}
